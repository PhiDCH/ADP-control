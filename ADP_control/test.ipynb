{
 "metadata": {
  "language_info": {
   "codemirror_mode": {
    "name": "ipython",
    "version": 3
   },
   "file_extension": ".py",
   "mimetype": "text/x-python",
   "name": "python",
   "nbconvert_exporter": "python",
   "pygments_lexer": "ipython3",
   "version": "3.8.10"
  },
  "orig_nbformat": 2,
  "kernelspec": {
   "name": "python3810jvsc74a57bd0d13d87b5690f452db47a8fd6ea5fde59641e5e2ddc22e0070be9dc75c4921b92",
   "display_name": "Python 3.8.10 64-bit ('RL': conda)"
  }
 },
 "nbformat": 4,
 "nbformat_minor": 2,
 "cells": [
  {
   "cell_type": "code",
   "execution_count": 3,
   "metadata": {},
   "outputs": [],
   "source": [
    "from scipy import integrate\n",
    "import numpy as np\n",
    "from matplotlib import pyplot as plt"
   ]
  },
  {
   "cell_type": "code",
   "execution_count": null,
   "metadata": {},
   "outputs": [],
   "source": [
    "x = np.arange(4)+1\n",
    "def phi_func(x):\n",
    "    phi = []\n",
    "    for i in range(len(x)):\n",
    "        for j in range(i, len(x)):\n",
    "            phi.append(x[i]*x[j])\n",
    "            phi.append(x[i]**2*x[j]**2)\n",
    "    return np.array(phi)\n",
    "def psi_func(x):\n",
    "    psi = []\n",
    "    for i in range(len(x)):\n",
    "        psi.append(x[i])\n",
    "        for j in range(i, len(x)):\n",
    "            for k in range(j, len(x)):\n",
    "                psi.append(x[i]*x[j]*x[k])\n",
    "    return np.array(psi)\n",
    "y = psi_func(x)\n",
    "len(y)"
   ]
  },
  {
   "cell_type": "code",
   "execution_count": 24,
   "metadata": {},
   "outputs": [
    {
     "output_type": "stream",
     "name": "stdout",
     "text": [
      "avsdf 1\n"
     ]
    }
   ],
   "source": [
    "a = 1\n",
    "print('avsdf {}'.format(a))"
   ]
  },
  {
   "cell_type": "code",
   "execution_count": 14,
   "metadata": {},
   "outputs": [],
   "source": [
    "a = 1; b=2 ; c=3\n",
    "        "
   ]
  },
  {
   "cell_type": "code",
   "execution_count": 93,
   "metadata": {},
   "outputs": [
    {
     "output_type": "execute_result",
     "data": {
      "text/plain": [
       "array([[0. , 0.1, 0.2, 0.3, 0.4, 0.5, 0.6, 0.7, 0.8, 0.9, 1. ]])"
      ]
     },
     "metadata": {},
     "execution_count": 93
    }
   ],
   "source": [
    "func = lambda t,x: 1\n",
    "\n",
    "t_span = (0,1)\n",
    "start, stop = t_span\n",
    "step_size = 0.1\n",
    "t_eval = np.arange(start, stop, step_size)\n",
    "t_eval = np.append(t_eval, stop)\n",
    "\n",
    "\n",
    "x0 = [0]\n",
    "result = integrate.solve_ivp(fun=func, t_span=t_span, y0=x0, method='RK45', t_eval=t_eval)\n",
    "result.y"
   ]
  },
  {
   "cell_type": "code",
   "execution_count": 123,
   "metadata": {},
   "outputs": [
    {
     "output_type": "execute_result",
     "data": {
      "text/plain": [
       "array([[0. , 0.1, 0.2, 0.3, 0.4, 0.5, 0.6, 0.7, 0.8, 0.9, 1. ],\n",
       "       [0. , 0.1, 0.2, 0.3, 0.4, 0.5, 0.6, 0.7, 0.8, 0.9, 1. ],\n",
       "       [0. , 0.1, 0.2, 0.3, 0.4, 0.5, 0.6, 0.7, 0.8, 0.9, 1. ]])"
      ]
     },
     "metadata": {},
     "execution_count": 123
    }
   ],
   "source": [
    "x = result.y.squeeze()\n",
    "t = result.t\n"
   ]
  },
  {
   "cell_type": "code",
   "execution_count": 138,
   "metadata": {},
   "outputs": [
    {
     "output_type": "execute_result",
     "data": {
      "text/plain": [
       "(2, 6)"
      ]
     },
     "metadata": {},
     "execution_count": 138
    }
   ],
   "source": [
    "x.shape\n",
    "temp = x[1:,:6]\n",
    "temp.shape"
   ]
  },
  {
   "cell_type": "code",
   "execution_count": 121,
   "metadata": {},
   "outputs": [
    {
     "output_type": "execute_result",
     "data": {
      "text/plain": [
       "array([[0. , 0.1, 0.2, 0.3, 0.4, 0.5, 0.6, 0.7, 0.8, 0.9, 1. ],\n",
       "       [0. , 0.1, 0.2, 0.3, 0.4, 0.5, 0.6, 0.7, 0.8, 0.9, 1. ],\n",
       "       [0. , 0.1, 0.2, 0.3, 0.4, 0.5, 0.6, 0.7, 0.8, 0.9, 1. ]])"
      ]
     },
     "metadata": {},
     "execution_count": 121
    }
   ],
   "source": [
    "func = lambda t,x: [1,1,1]\n",
    "t_span = (0,1)\n",
    "start, stop = t_span\n",
    "step_size = 0.1\n",
    "t_eval = np.arange(start, stop, step_size)\n",
    "t_eval = np.append(t_eval, stop)\n",
    "\n",
    "x0 = np.array([0,0,0])\n",
    "result = integrate.solve_ivp(fun=func, t_span=t_span, y0=x0, method='RK45', t_eval=t_eval)\n",
    "result.y"
   ]
  },
  {
   "cell_type": "code",
   "execution_count": 15,
   "metadata": {},
   "outputs": [
    {
     "output_type": "execute_result",
     "data": {
      "text/plain": [
       "array([[-10,   2,  35,  36,  -9,  43, -31,   3,  33,  -4,  43,  37, -24,\n",
       "         25, -29,  32, -23,   3,  14,  42,  49,  24, -47, -34, -49,  -4,\n",
       "         -7, -45,  -4, -32,  -4,  48,  10, -24, -20, -43,  -8, -25, -18,\n",
       "        -15,  -4,   2,  -8,  27,   1,  30, -33,   8,   5, -13,  48,   9,\n",
       "         48,  20,  36,   6,  42,   0,  -1, -26,  22,  11, -46, -35,   6,\n",
       "         36,   6,  24,  13,   1,  -3,  -6,  38,  -7,  10, -27,   9,  13,\n",
       "        -26,   0,   4,  25, -39,   6,   2,  28, -17, -19, -38, -48,  32,\n",
       "         24,  -2,  48,  38,   6, -31,  -3, -31, -10],\n",
       "       [-40,  41, -44,  10,  -4, -19,   9, -36,   0,  34,  48, -21,  22,\n",
       "         -8,  44,  40,  40,  10, -28, -20, -23,  18, -46,  -3, -11,  -6,\n",
       "        -17, -21,  18,  -2, -18,  22,  37,  25,  -6, -44,  11,  36, -39,\n",
       "         -4, -45,  10,  31, -36,  31, -29, -14, -38,  48, -25,  24, -23,\n",
       "         15,  40, -28,  43,  40,  19,  17,  26,  27,  43,  43, -39,  -2,\n",
       "        -10, -46,  46, -17,  15,  -3, -45,  45,   6, -29,   8,   7,  26,\n",
       "        -35,  46,  12, -27,  -2, -39,  -5,  33,  45,  13,  39,  30, -45,\n",
       "         22,  23, -24,   6,  49, -12,  38,  16,  16]])"
      ]
     },
     "metadata": {},
     "execution_count": 15
    }
   ],
   "source": [
    "freq = ((np.random.rand(100,2)-0.5)*100).astype(int)\n",
    "noise = lambda t: np.sum(np.sin(freq*t), axis=0)\n",
    "freq.T\n"
   ]
  },
  {
   "cell_type": "code",
   "execution_count": 17,
   "metadata": {},
   "outputs": [],
   "source": [
    "freq = np.array([[-10,   2,  35,  36,  -9,  43, -31,   3,  33,  -4,  43,  37, -24,\n",
    "         25, -29,  32, -23,   3,  14,  42,  49,  24, -47, -34, -49,  -4,\n",
    "         -7, -45,  -4, -32,  -4,  48,  10, -24, -20, -43,  -8, -25, -18,\n",
    "        -15,  -4,   2,  -8,  27,   1,  30, -33,   8,   5, -13,  48,   9,\n",
    "         48,  20,  36,   6,  42,   0,  -1, -26,  22,  11, -46, -35,   6,\n",
    "         36,   6,  24,  13,   1,  -3,  -6,  38,  -7,  10, -27,   9,  13,\n",
    "        -26,   0,   4,  25, -39,   6,   2,  28, -17, -19, -38, -48,  32,\n",
    "         24,  -2,  48,  38,   6, -31,  -3, -31, -10],\n",
    "       [-40,  41, -44,  10,  -4, -19,   9, -36,   0,  34,  48, -21,  22,\n",
    "         -8,  44,  40,  40,  10, -28, -20, -23,  18, -46,  -3, -11,  -6,\n",
    "        -17, -21,  18,  -2, -18,  22,  37,  25,  -6, -44,  11,  36, -39,\n",
    "         -4, -45,  10,  31, -36,  31, -29, -14, -38,  48, -25,  24, -23,\n",
    "         15,  40, -28,  43,  40,  19,  17,  26,  27,  43,  43, -39,  -2,\n",
    "        -10, -46,  46, -17,  15,  -3, -45,  45,   6, -29,   8,   7,  26,\n",
    "        -35,  46,  12, -27,  -2, -39,  -5,  33,  45,  13,  39,  30, -45,\n",
    "         22,  23, -24,   6,  49, -12,  38,  16,  16]])"
   ]
  },
  {
   "cell_type": "code",
   "execution_count": 27,
   "metadata": {},
   "outputs": [
    {
     "output_type": "execute_result",
     "data": {
      "text/plain": [
       "array([-8.63438079, -4.84357275])"
      ]
     },
     "metadata": {},
     "execution_count": 27
    }
   ],
   "source": [
    "noise = lambda t: np.sum(np.sin(freq*t), axis=1)\n",
    "noise(1)"
   ]
  },
  {
   "cell_type": "code",
   "execution_count": 31,
   "metadata": {},
   "outputs": [
    {
     "output_type": "execute_result",
     "data": {
      "text/plain": [
       "array([[0.5, 0.5],\n",
       "       [0.5, 0.5],\n",
       "       [0.5, 0.5],\n",
       "       [0.5, 0.5],\n",
       "       [0.5, 0.5],\n",
       "       [0.5, 0.5]])"
      ]
     },
     "metadata": {},
     "execution_count": 31
    }
   ],
   "source": [
    "u = np.ones((6,2))\n",
    "B = 2*np.ones((6,2))\n",
    "u/B"
   ]
  },
  {
   "cell_type": "code",
   "execution_count": 147,
   "metadata": {},
   "outputs": [
    {
     "output_type": "execute_result",
     "data": {
      "text/plain": [
       "array([-1.86384935, -1.86384935])"
      ]
     },
     "metadata": {},
     "execution_count": 147
    }
   ],
   "source": [
    "K0 = np.zeros((2,6))\n",
    "x0 = np.zeros((6,))\n",
    "u = K0.dot(x0) + noise(1)\n",
    "u"
   ]
  },
  {
   "cell_type": "code",
   "execution_count": 6,
   "metadata": {},
   "outputs": [],
   "source": [
    "A = np.array([[0,1,0],[0,0,1],[-0.1, -0.5, -0.7]])\n",
    "B = np.array([0,0,1]).reshape((3,1))\n",
    "\n",
    "# A = np.array([[-0.4125, -0.0248, 0.0741, 0.0089, 0, 0],\n",
    "#               [101.5873, -7.2615, 2.7608, 2.8068, 0, 0],\n",
    "#               [0.0704, 0.0085, -0.0741, -0.0089, 0, 0.02],\n",
    "#               [0.0878, 0.2672, 0, -0.3674, 0.0044, 0.3962],\n",
    "#               [-1.8414, 0.099, 0, 0, -0.0343, -0.033],\n",
    "#               [0, 0, 0, -359.0, 187.5364, -87.0316]])\n",
    "# B = np.array([[-0.0042, 0.0064], [-1.0360, 1.5849], [0.0042, 0], [0.1261, 0], [0, -0.0168], [0, 0]])\n",
    "\n",
    "C = control.ctrb(A,B)"
   ]
  },
  {
   "cell_type": "code",
   "execution_count": 82,
   "metadata": {},
   "outputs": [],
   "source": [
    "def _rowApprox(Q, R, K, x_sample, e_sample, t_sample):\n",
    "    # Q n_state x n_state\n",
    "    # R n_input x n_input\n",
    "    # K 1 x n_input\n",
    "    x = np.array(x_sample)      # n_sample x n_state\n",
    "    e = np.array(e_sample)      # n_sample x n_input\n",
    "    xx = np.kron(x[-1], x[-1]) - np.kron(x[0], x[0])\n",
    "    \n",
    "    xeR = []\n",
    "    xQx = []\n",
    "    Qk = Q + K.T.dot(R.dot(K))\n",
    "    for i, xi in enumerate(x):\n",
    "        ei = e[i]\n",
    "        xeR.append(np.kron(xi, ei.dot(R)))\n",
    "        xQx.append(xi.dot(Qk.dot(xi)))\n",
    "    \n",
    "    xeR = -2*np.trapz(xeR, t_sample, axis=0) \n",
    "    \n",
    "    _thetaRow = np.hstack((xx, xeR))\n",
    "    _xiRow = -np.trapz(xQx, t_sample, axis=0)\n",
    "    \n",
    "    return _thetaRow, _xiRow\n",
    "\n",
    "Q = np.eye(3)\n",
    "R = np.eye(1)\n",
    "K = np.zeros((1,3))\n",
    "x_sample = np.ones((100,3))\n",
    "e_sample = np.ones((100,1))\n",
    "t_sample = np.arange(100)\n",
    "r1,r2 = _rowApprox(Q,R,K,x_sample,e_sample,t_sample)"
   ]
  },
  {
   "cell_type": "code",
   "execution_count": 14,
   "metadata": {},
   "outputs": [
    {
     "output_type": "execute_result",
     "data": {
      "text/plain": [
       "3.0"
      ]
     },
     "metadata": {},
     "execution_count": 14
    }
   ],
   "source": [
    "K = np.ones((3,))\n",
    "x = np.ones((3,))\n",
    "K.dot(x)"
   ]
  },
  {
   "cell_type": "code",
   "execution_count": 8,
   "metadata": {},
   "outputs": [],
   "source": [
    "A = np.eye(3)\n",
    "B = np.ones((3,1))\n",
    "\n",
    "dx_dt = lambda t,x,u: A.dot(x) + B.dot(u)\n",
    "\n",
    "t_span = (0,10)\n",
    "dt = 1e-3\n",
    "t_eval = np.arange(t_span[0], t_span[1], dt)\n",
    "\n",
    "x0 = np.array([0.1,0.2,0.3])"
   ]
  },
  {
   "cell_type": "code",
   "execution_count": 14,
   "metadata": {},
   "outputs": [
    {
     "output_type": "execute_result",
     "data": {
      "text/plain": [
       "(1, 1)"
      ]
     },
     "metadata": {},
     "execution_count": 14
    }
   ],
   "source": [
    "x0 = np.expand_dims(np.array([1,1,1]), axis=1)\n",
    "u = np.array([[1]])\n",
    "dx_dt(0, x0,u)"
   ]
  },
  {
   "cell_type": "code",
   "execution_count": null,
   "metadata": {},
   "outputs": [],
   "source": []
  },
  {
   "cell_type": "code",
   "execution_count": 11,
   "metadata": {},
   "outputs": [
    {
     "output_type": "execute_result",
     "data": {
      "text/plain": [
       "array([1., 1., 1.])"
      ]
     },
     "metadata": {},
     "execution_count": 11
    }
   ],
   "source": [
    "A.dot(x0)"
   ]
  },
  {
   "cell_type": "code",
   "execution_count": 22,
   "metadata": {},
   "outputs": [
    {
     "output_type": "execute_result",
     "data": {
      "text/plain": [
       "(11, 3)"
      ]
     },
     "metadata": {},
     "execution_count": 22
    }
   ],
   "source": [
    "sol = integrate.solve_ivp(fun=dx_dt, args=((1,1),), t_span=t_span, y0=x0, method='RK45', dense_output=True)\n",
    "result = sol.y.T\n",
    "t_eval = sol.t\n",
    "result.shape"
   ]
  },
  {
   "cell_type": "code",
   "execution_count": 29,
   "metadata": {},
   "outputs": [
    {
     "output_type": "execute_result",
     "data": {
      "text/plain": [
       "(10000, 3)"
      ]
     },
     "metadata": {},
     "execution_count": 29
    }
   ],
   "source": [
    "sol = integrate.solve_ivp(fun=dx_dt, args=((1,1),), t_span=t_span, y0=x0, t_eval=t_eval, method='RK45')\n",
    "result = sol.y.T\n",
    "t_eval = sol.t \n",
    "result.shape"
   ]
  },
  {
   "cell_type": "code",
   "execution_count": 35,
   "metadata": {},
   "outputs": [
    {
     "output_type": "execute_result",
     "data": {
      "text/plain": [
       "array([1., 2., 3.])"
      ]
     },
     "metadata": {},
     "execution_count": 35
    }
   ],
   "source": [
    "np.arange(1,3.1,)"
   ]
  },
  {
   "cell_type": "code",
   "execution_count": 30,
   "metadata": {},
   "outputs": [
    {
     "output_type": "execute_result",
     "data": {
      "text/plain": [
       "[<matplotlib.lines.Line2D at 0x7f7f339cfe50>,\n",
       " <matplotlib.lines.Line2D at 0x7f7f339cfac0>,\n",
       " <matplotlib.lines.Line2D at 0x7f7f3397aaf0>]"
      ]
     },
     "metadata": {},
     "execution_count": 30
    },
    {
     "output_type": "display_data",
     "data": {
      "text/plain": "<Figure size 432x288 with 1 Axes>",
      "image/svg+xml": "<?xml version=\"1.0\" encoding=\"utf-8\" standalone=\"no\"?>\n<!DOCTYPE svg PUBLIC \"-//W3C//DTD SVG 1.1//EN\"\n  \"http://www.w3.org/Graphics/SVG/1.1/DTD/svg11.dtd\">\n<svg height=\"248.518125pt\" version=\"1.1\" viewBox=\"0 0 388.0125 248.518125\" width=\"388.0125pt\" xmlns=\"http://www.w3.org/2000/svg\" xmlns:xlink=\"http://www.w3.org/1999/xlink\">\n <metadata>\n  <rdf:RDF xmlns:cc=\"http://creativecommons.org/ns#\" xmlns:dc=\"http://purl.org/dc/elements/1.1/\" xmlns:rdf=\"http://www.w3.org/1999/02/22-rdf-syntax-ns#\">\n   <cc:Work>\n    <dc:type rdf:resource=\"http://purl.org/dc/dcmitype/StillImage\"/>\n    <dc:date>2021-05-22T16:33:33.995930</dc:date>\n    <dc:format>image/svg+xml</dc:format>\n    <dc:creator>\n     <cc:Agent>\n      <dc:title>Matplotlib v3.4.2, https://matplotlib.org/</dc:title>\n     </cc:Agent>\n    </dc:creator>\n   </cc:Work>\n  </rdf:RDF>\n </metadata>\n <defs>\n  <style type=\"text/css\">*{stroke-linecap:butt;stroke-linejoin:round;}</style>\n </defs>\n <g id=\"figure_1\">\n  <g id=\"patch_1\">\n   <path d=\"M 0 248.518125 \nL 388.0125 248.518125 \nL 388.0125 0 \nL 0 0 \nz\n\" style=\"fill:none;\"/>\n  </g>\n  <g id=\"axes_1\">\n   <g id=\"patch_2\">\n    <path d=\"M 46.0125 224.64 \nL 380.8125 224.64 \nL 380.8125 7.2 \nL 46.0125 7.2 \nz\n\" style=\"fill:#ffffff;\"/>\n   </g>\n   <g id=\"matplotlib.axis_1\">\n    <g id=\"xtick_1\">\n     <g id=\"line2d_1\">\n      <defs>\n       <path d=\"M 0 0 \nL 0 3.5 \n\" id=\"m927b727bce\" style=\"stroke:#000000;stroke-width:0.8;\"/>\n      </defs>\n      <g>\n       <use style=\"stroke:#000000;stroke-width:0.8;\" x=\"61.230682\" xlink:href=\"#m927b727bce\" y=\"224.64\"/>\n      </g>\n     </g>\n     <g id=\"text_1\">\n      <!-- 0 -->\n      <g transform=\"translate(58.049432 239.238437)scale(0.1 -0.1)\">\n       <defs>\n        <path d=\"M 2034 4250 \nQ 1547 4250 1301 3770 \nQ 1056 3291 1056 2328 \nQ 1056 1369 1301 889 \nQ 1547 409 2034 409 \nQ 2525 409 2770 889 \nQ 3016 1369 3016 2328 \nQ 3016 3291 2770 3770 \nQ 2525 4250 2034 4250 \nz\nM 2034 4750 \nQ 2819 4750 3233 4129 \nQ 3647 3509 3647 2328 \nQ 3647 1150 3233 529 \nQ 2819 -91 2034 -91 \nQ 1250 -91 836 529 \nQ 422 1150 422 2328 \nQ 422 3509 836 4129 \nQ 1250 4750 2034 4750 \nz\n\" id=\"DejaVuSans-30\" transform=\"scale(0.015625)\"/>\n       </defs>\n       <use xlink:href=\"#DejaVuSans-30\"/>\n      </g>\n     </g>\n    </g>\n    <g id=\"xtick_2\">\n     <g id=\"line2d_2\">\n      <g>\n       <use style=\"stroke:#000000;stroke-width:0.8;\" x=\"122.109497\" xlink:href=\"#m927b727bce\" y=\"224.64\"/>\n      </g>\n     </g>\n     <g id=\"text_2\">\n      <!-- 2 -->\n      <g transform=\"translate(118.928247 239.238437)scale(0.1 -0.1)\">\n       <defs>\n        <path d=\"M 1228 531 \nL 3431 531 \nL 3431 0 \nL 469 0 \nL 469 531 \nQ 828 903 1448 1529 \nQ 2069 2156 2228 2338 \nQ 2531 2678 2651 2914 \nQ 2772 3150 2772 3378 \nQ 2772 3750 2511 3984 \nQ 2250 4219 1831 4219 \nQ 1534 4219 1204 4116 \nQ 875 4013 500 3803 \nL 500 4441 \nQ 881 4594 1212 4672 \nQ 1544 4750 1819 4750 \nQ 2544 4750 2975 4387 \nQ 3406 4025 3406 3419 \nQ 3406 3131 3298 2873 \nQ 3191 2616 2906 2266 \nQ 2828 2175 2409 1742 \nQ 1991 1309 1228 531 \nz\n\" id=\"DejaVuSans-32\" transform=\"scale(0.015625)\"/>\n       </defs>\n       <use xlink:href=\"#DejaVuSans-32\"/>\n      </g>\n     </g>\n    </g>\n    <g id=\"xtick_3\">\n     <g id=\"line2d_3\">\n      <g>\n       <use style=\"stroke:#000000;stroke-width:0.8;\" x=\"182.988312\" xlink:href=\"#m927b727bce\" y=\"224.64\"/>\n      </g>\n     </g>\n     <g id=\"text_3\">\n      <!-- 4 -->\n      <g transform=\"translate(179.807062 239.238437)scale(0.1 -0.1)\">\n       <defs>\n        <path d=\"M 2419 4116 \nL 825 1625 \nL 2419 1625 \nL 2419 4116 \nz\nM 2253 4666 \nL 3047 4666 \nL 3047 1625 \nL 3713 1625 \nL 3713 1100 \nL 3047 1100 \nL 3047 0 \nL 2419 0 \nL 2419 1100 \nL 313 1100 \nL 313 1709 \nL 2253 4666 \nz\n\" id=\"DejaVuSans-34\" transform=\"scale(0.015625)\"/>\n       </defs>\n       <use xlink:href=\"#DejaVuSans-34\"/>\n      </g>\n     </g>\n    </g>\n    <g id=\"xtick_4\">\n     <g id=\"line2d_4\">\n      <g>\n       <use style=\"stroke:#000000;stroke-width:0.8;\" x=\"243.867127\" xlink:href=\"#m927b727bce\" y=\"224.64\"/>\n      </g>\n     </g>\n     <g id=\"text_4\">\n      <!-- 6 -->\n      <g transform=\"translate(240.685877 239.238437)scale(0.1 -0.1)\">\n       <defs>\n        <path d=\"M 2113 2584 \nQ 1688 2584 1439 2293 \nQ 1191 2003 1191 1497 \nQ 1191 994 1439 701 \nQ 1688 409 2113 409 \nQ 2538 409 2786 701 \nQ 3034 994 3034 1497 \nQ 3034 2003 2786 2293 \nQ 2538 2584 2113 2584 \nz\nM 3366 4563 \nL 3366 3988 \nQ 3128 4100 2886 4159 \nQ 2644 4219 2406 4219 \nQ 1781 4219 1451 3797 \nQ 1122 3375 1075 2522 \nQ 1259 2794 1537 2939 \nQ 1816 3084 2150 3084 \nQ 2853 3084 3261 2657 \nQ 3669 2231 3669 1497 \nQ 3669 778 3244 343 \nQ 2819 -91 2113 -91 \nQ 1303 -91 875 529 \nQ 447 1150 447 2328 \nQ 447 3434 972 4092 \nQ 1497 4750 2381 4750 \nQ 2619 4750 2861 4703 \nQ 3103 4656 3366 4563 \nz\n\" id=\"DejaVuSans-36\" transform=\"scale(0.015625)\"/>\n       </defs>\n       <use xlink:href=\"#DejaVuSans-36\"/>\n      </g>\n     </g>\n    </g>\n    <g id=\"xtick_5\">\n     <g id=\"line2d_5\">\n      <g>\n       <use style=\"stroke:#000000;stroke-width:0.8;\" x=\"304.745942\" xlink:href=\"#m927b727bce\" y=\"224.64\"/>\n      </g>\n     </g>\n     <g id=\"text_5\">\n      <!-- 8 -->\n      <g transform=\"translate(301.564692 239.238437)scale(0.1 -0.1)\">\n       <defs>\n        <path d=\"M 2034 2216 \nQ 1584 2216 1326 1975 \nQ 1069 1734 1069 1313 \nQ 1069 891 1326 650 \nQ 1584 409 2034 409 \nQ 2484 409 2743 651 \nQ 3003 894 3003 1313 \nQ 3003 1734 2745 1975 \nQ 2488 2216 2034 2216 \nz\nM 1403 2484 \nQ 997 2584 770 2862 \nQ 544 3141 544 3541 \nQ 544 4100 942 4425 \nQ 1341 4750 2034 4750 \nQ 2731 4750 3128 4425 \nQ 3525 4100 3525 3541 \nQ 3525 3141 3298 2862 \nQ 3072 2584 2669 2484 \nQ 3125 2378 3379 2068 \nQ 3634 1759 3634 1313 \nQ 3634 634 3220 271 \nQ 2806 -91 2034 -91 \nQ 1263 -91 848 271 \nQ 434 634 434 1313 \nQ 434 1759 690 2068 \nQ 947 2378 1403 2484 \nz\nM 1172 3481 \nQ 1172 3119 1398 2916 \nQ 1625 2713 2034 2713 \nQ 2441 2713 2670 2916 \nQ 2900 3119 2900 3481 \nQ 2900 3844 2670 4047 \nQ 2441 4250 2034 4250 \nQ 1625 4250 1398 4047 \nQ 1172 3844 1172 3481 \nz\n\" id=\"DejaVuSans-38\" transform=\"scale(0.015625)\"/>\n       </defs>\n       <use xlink:href=\"#DejaVuSans-38\"/>\n      </g>\n     </g>\n    </g>\n    <g id=\"xtick_6\">\n     <g id=\"line2d_6\">\n      <g>\n       <use style=\"stroke:#000000;stroke-width:0.8;\" x=\"365.624758\" xlink:href=\"#m927b727bce\" y=\"224.64\"/>\n      </g>\n     </g>\n     <g id=\"text_6\">\n      <!-- 10 -->\n      <g transform=\"translate(359.262258 239.238437)scale(0.1 -0.1)\">\n       <defs>\n        <path d=\"M 794 531 \nL 1825 531 \nL 1825 4091 \nL 703 3866 \nL 703 4441 \nL 1819 4666 \nL 2450 4666 \nL 2450 531 \nL 3481 531 \nL 3481 0 \nL 794 0 \nL 794 531 \nz\n\" id=\"DejaVuSans-31\" transform=\"scale(0.015625)\"/>\n       </defs>\n       <use xlink:href=\"#DejaVuSans-31\"/>\n       <use x=\"63.623047\" xlink:href=\"#DejaVuSans-30\"/>\n      </g>\n     </g>\n    </g>\n   </g>\n   <g id=\"matplotlib.axis_2\">\n    <g id=\"ytick_1\">\n     <g id=\"line2d_7\">\n      <defs>\n       <path d=\"M 0 0 \nL -3.5 0 \n\" id=\"mbc303a9147\" style=\"stroke:#000000;stroke-width:0.8;\"/>\n      </defs>\n      <g>\n       <use style=\"stroke:#000000;stroke-width:0.8;\" x=\"46.0125\" xlink:href=\"#mbc303a9147\" y=\"214.756754\"/>\n      </g>\n     </g>\n     <g id=\"text_7\">\n      <!-- 0 -->\n      <g transform=\"translate(32.65 218.555973)scale(0.1 -0.1)\">\n       <use xlink:href=\"#DejaVuSans-30\"/>\n      </g>\n     </g>\n    </g>\n    <g id=\"ytick_2\">\n     <g id=\"line2d_8\">\n      <g>\n       <use style=\"stroke:#000000;stroke-width:0.8;\" x=\"46.0125\" xlink:href=\"#mbc303a9147\" y=\"175.680922\"/>\n      </g>\n     </g>\n     <g id=\"text_8\">\n      <!-- 10000 -->\n      <g transform=\"translate(7.2 179.480141)scale(0.1 -0.1)\">\n       <use xlink:href=\"#DejaVuSans-31\"/>\n       <use x=\"63.623047\" xlink:href=\"#DejaVuSans-30\"/>\n       <use x=\"127.246094\" xlink:href=\"#DejaVuSans-30\"/>\n       <use x=\"190.869141\" xlink:href=\"#DejaVuSans-30\"/>\n       <use x=\"254.492188\" xlink:href=\"#DejaVuSans-30\"/>\n      </g>\n     </g>\n    </g>\n    <g id=\"ytick_3\">\n     <g id=\"line2d_9\">\n      <g>\n       <use style=\"stroke:#000000;stroke-width:0.8;\" x=\"46.0125\" xlink:href=\"#mbc303a9147\" y=\"136.60509\"/>\n      </g>\n     </g>\n     <g id=\"text_9\">\n      <!-- 20000 -->\n      <g transform=\"translate(7.2 140.404309)scale(0.1 -0.1)\">\n       <use xlink:href=\"#DejaVuSans-32\"/>\n       <use x=\"63.623047\" xlink:href=\"#DejaVuSans-30\"/>\n       <use x=\"127.246094\" xlink:href=\"#DejaVuSans-30\"/>\n       <use x=\"190.869141\" xlink:href=\"#DejaVuSans-30\"/>\n       <use x=\"254.492188\" xlink:href=\"#DejaVuSans-30\"/>\n      </g>\n     </g>\n    </g>\n    <g id=\"ytick_4\">\n     <g id=\"line2d_10\">\n      <g>\n       <use style=\"stroke:#000000;stroke-width:0.8;\" x=\"46.0125\" xlink:href=\"#mbc303a9147\" y=\"97.529258\"/>\n      </g>\n     </g>\n     <g id=\"text_10\">\n      <!-- 30000 -->\n      <g transform=\"translate(7.2 101.328476)scale(0.1 -0.1)\">\n       <defs>\n        <path d=\"M 2597 2516 \nQ 3050 2419 3304 2112 \nQ 3559 1806 3559 1356 \nQ 3559 666 3084 287 \nQ 2609 -91 1734 -91 \nQ 1441 -91 1130 -33 \nQ 819 25 488 141 \nL 488 750 \nQ 750 597 1062 519 \nQ 1375 441 1716 441 \nQ 2309 441 2620 675 \nQ 2931 909 2931 1356 \nQ 2931 1769 2642 2001 \nQ 2353 2234 1838 2234 \nL 1294 2234 \nL 1294 2753 \nL 1863 2753 \nQ 2328 2753 2575 2939 \nQ 2822 3125 2822 3475 \nQ 2822 3834 2567 4026 \nQ 2313 4219 1838 4219 \nQ 1578 4219 1281 4162 \nQ 984 4106 628 3988 \nL 628 4550 \nQ 988 4650 1302 4700 \nQ 1616 4750 1894 4750 \nQ 2613 4750 3031 4423 \nQ 3450 4097 3450 3541 \nQ 3450 3153 3228 2886 \nQ 3006 2619 2597 2516 \nz\n\" id=\"DejaVuSans-33\" transform=\"scale(0.015625)\"/>\n       </defs>\n       <use xlink:href=\"#DejaVuSans-33\"/>\n       <use x=\"63.623047\" xlink:href=\"#DejaVuSans-30\"/>\n       <use x=\"127.246094\" xlink:href=\"#DejaVuSans-30\"/>\n       <use x=\"190.869141\" xlink:href=\"#DejaVuSans-30\"/>\n       <use x=\"254.492188\" xlink:href=\"#DejaVuSans-30\"/>\n      </g>\n     </g>\n    </g>\n    <g id=\"ytick_5\">\n     <g id=\"line2d_11\">\n      <g>\n       <use style=\"stroke:#000000;stroke-width:0.8;\" x=\"46.0125\" xlink:href=\"#mbc303a9147\" y=\"58.453425\"/>\n      </g>\n     </g>\n     <g id=\"text_11\">\n      <!-- 40000 -->\n      <g transform=\"translate(7.2 62.252644)scale(0.1 -0.1)\">\n       <use xlink:href=\"#DejaVuSans-34\"/>\n       <use x=\"63.623047\" xlink:href=\"#DejaVuSans-30\"/>\n       <use x=\"127.246094\" xlink:href=\"#DejaVuSans-30\"/>\n       <use x=\"190.869141\" xlink:href=\"#DejaVuSans-30\"/>\n       <use x=\"254.492188\" xlink:href=\"#DejaVuSans-30\"/>\n      </g>\n     </g>\n    </g>\n    <g id=\"ytick_6\">\n     <g id=\"line2d_12\">\n      <g>\n       <use style=\"stroke:#000000;stroke-width:0.8;\" x=\"46.0125\" xlink:href=\"#mbc303a9147\" y=\"19.377593\"/>\n      </g>\n     </g>\n     <g id=\"text_12\">\n      <!-- 50000 -->\n      <g transform=\"translate(7.2 23.176812)scale(0.1 -0.1)\">\n       <defs>\n        <path d=\"M 691 4666 \nL 3169 4666 \nL 3169 4134 \nL 1269 4134 \nL 1269 2991 \nQ 1406 3038 1543 3061 \nQ 1681 3084 1819 3084 \nQ 2600 3084 3056 2656 \nQ 3513 2228 3513 1497 \nQ 3513 744 3044 326 \nQ 2575 -91 1722 -91 \nQ 1428 -91 1123 -41 \nQ 819 9 494 109 \nL 494 744 \nQ 775 591 1075 516 \nQ 1375 441 1709 441 \nQ 2250 441 2565 725 \nQ 2881 1009 2881 1497 \nQ 2881 1984 2565 2268 \nQ 2250 2553 1709 2553 \nQ 1456 2553 1204 2497 \nQ 953 2441 691 2322 \nL 691 4666 \nz\n\" id=\"DejaVuSans-35\" transform=\"scale(0.015625)\"/>\n       </defs>\n       <use xlink:href=\"#DejaVuSans-35\"/>\n       <use x=\"63.623047\" xlink:href=\"#DejaVuSans-30\"/>\n       <use x=\"127.246094\" xlink:href=\"#DejaVuSans-30\"/>\n       <use x=\"190.869141\" xlink:href=\"#DejaVuSans-30\"/>\n       <use x=\"254.492188\" xlink:href=\"#DejaVuSans-30\"/>\n      </g>\n     </g>\n    </g>\n   </g>\n   <g id=\"line2d_13\">\n    <path clip-path=\"url(#p34028362ac)\" d=\"M 61.230682 214.756364 \nL 148.16563 214.621848 \nL 179.670417 214.362907 \nL 199.821305 213.985686 \nL 214.767054 213.492687 \nL 226.638423 212.885112 \nL 236.53123 212.162779 \nL 245.084704 211.320038 \nL 252.511919 210.369978 \nL 259.11727 209.304772 \nL 265.083394 208.12056 \nL 270.562488 206.808745 \nL 275.554551 205.38945 \nL 280.242219 203.828257 \nL 284.625494 202.136986 \nL 288.734814 200.316095 \nL 292.631058 198.347184 \nL 296.314227 196.237817 \nL 299.845198 193.958866 \nL 303.223972 191.513563 \nL 306.480989 188.883094 \nL 309.646687 186.041526 \nL 312.751507 182.954175 \nL 315.734569 179.676699 \nL 318.687191 176.098349 \nL 321.578935 172.243372 \nL 324.440239 168.055703 \nL 327.240665 163.562455 \nL 330.010651 158.69561 \nL 332.750197 153.427659 \nL 335.459305 147.729469 \nL 338.137973 141.570676 \nL 340.786201 134.920052 \nL 343.434429 127.658707 \nL 346.052219 119.826139 \nL 348.670008 111.285166 \nL 351.287797 101.974961 \nL 353.905586 91.831159 \nL 356.523375 80.785661 \nL 359.110724 68.899373 \nL 361.698074 55.958679 \nL 364.285424 41.869919 \nL 365.594318 34.273283 \nL 365.594318 34.273283 \n\" style=\"fill:none;stroke:#1f77b4;stroke-linecap:square;stroke-width:1.5;\"/>\n   </g>\n   <g id=\"line2d_14\">\n    <path clip-path=\"url(#p34028362ac)\" d=\"M 61.230682 214.755973 \nL 147.008932 214.620629 \nL 178.391962 214.361109 \nL 198.51241 213.982889 \nL 213.42772 213.489492 \nL 225.268649 212.882333 \nL 235.161457 212.158831 \nL 243.684491 211.317906 \nL 251.142146 210.363086 \nL 257.747497 209.296698 \nL 263.713621 208.110964 \nL 269.162275 206.804739 \nL 274.184777 205.375661 \nL 278.872446 203.811405 \nL 283.255721 202.116725 \nL 287.365041 200.292661 \nL 291.261285 198.320943 \nL 294.944453 196.209061 \nL 298.475424 193.927631 \nL 301.854199 191.479593 \nL 305.111215 188.845775 \nL 308.276914 185.999839 \nL 311.381733 182.906639 \nL 314.395235 179.589737 \nL 317.317418 176.041361 \nL 320.209161 172.178883 \nL 323.070466 167.982513 \nL 325.870891 163.480286 \nL 328.640877 158.60463 \nL 331.380424 153.328318 \nL 334.089531 147.622289 \nL 336.768199 141.456051 \nL 339.416428 134.798073 \nL 342.064656 127.528914 \nL 344.682445 119.687541 \nL 347.300234 111.135897 \nL 349.918023 101.812197 \nL 352.535812 91.650949 \nL 355.153601 80.582959 \nL 357.77139 68.531357 \nL 360.35874 55.557949 \nL 362.94609 41.433668 \nL 365.533439 26.056254 \nL 365.594318 25.67846 \nL 365.594318 25.67846 \n\" style=\"fill:none;stroke:#ff7f0e;stroke-linecap:square;stroke-width:1.5;\"/>\n   </g>\n   <g id=\"line2d_15\">\n    <path clip-path=\"url(#p34028362ac)\" d=\"M 61.230682 214.755582 \nL 145.882674 214.619553 \nL 177.174385 214.359328 \nL 197.233955 213.980932 \nL 212.149265 213.486356 \nL 223.959755 212.879704 \nL 233.852562 212.155109 \nL 242.375596 211.312596 \nL 249.833251 210.356425 \nL 256.438603 209.28889 \nL 262.374287 208.108454 \nL 267.822941 206.801468 \nL 272.845443 205.371917 \nL 277.502673 203.817458 \nL 281.885947 202.122804 \nL 286.025707 200.284706 \nL 289.921951 198.31208 \nL 293.605119 196.199776 \nL 297.136091 193.918228 \nL 300.514865 191.470115 \nL 303.771881 188.835945 \nL 306.93758 185.989025 \nL 310.01196 182.925699 \nL 313.025461 179.609571 \nL 315.947644 176.06472 \nL 318.839388 172.203395 \nL 321.700692 168.007114 \nL 324.501118 163.504953 \nL 327.271104 158.630069 \nL 330.010651 153.35571 \nL 332.719758 147.653052 \nL 335.398426 141.491636 \nL 338.046654 134.839772 \nL 340.694883 127.577782 \nL 343.312672 119.744086 \nL 345.930461 111.200089 \nL 348.54825 101.883225 \nL 351.166039 91.727052 \nL 353.783828 80.661257 \nL 356.401617 68.61155 \nL 358.988967 55.645203 \nL 361.576316 41.528637 \nL 364.163666 26.159693 \nL 365.594318 17.083636 \nL 365.594318 17.083636 \n\" style=\"fill:none;stroke:#2ca02c;stroke-linecap:square;stroke-width:1.5;\"/>\n   </g>\n   <g id=\"patch_3\">\n    <path d=\"M 46.0125 224.64 \nL 46.0125 7.2 \n\" style=\"fill:none;stroke:#000000;stroke-linecap:square;stroke-linejoin:miter;stroke-width:0.8;\"/>\n   </g>\n   <g id=\"patch_4\">\n    <path d=\"M 380.8125 224.64 \nL 380.8125 7.2 \n\" style=\"fill:none;stroke:#000000;stroke-linecap:square;stroke-linejoin:miter;stroke-width:0.8;\"/>\n   </g>\n   <g id=\"patch_5\">\n    <path d=\"M 46.0125 224.64 \nL 380.8125 224.64 \n\" style=\"fill:none;stroke:#000000;stroke-linecap:square;stroke-linejoin:miter;stroke-width:0.8;\"/>\n   </g>\n   <g id=\"patch_6\">\n    <path d=\"M 46.0125 7.2 \nL 380.8125 7.2 \n\" style=\"fill:none;stroke:#000000;stroke-linecap:square;stroke-linejoin:miter;stroke-width:0.8;\"/>\n   </g>\n  </g>\n </g>\n <defs>\n  <clipPath id=\"p34028362ac\">\n   <rect height=\"217.44\" width=\"334.8\" x=\"46.0125\" y=\"7.2\"/>\n  </clipPath>\n </defs>\n</svg>\n",
      "image/png": "[encoded data removed]"
     },
     "metadata": {
      "needs_background": "light"
     }
    }
   ],
   "source": [
    "from matplotlib import pyplot as plt \n",
    "\n",
    "plt.plot(t_eval, result)\n"
   ]
  },
  {
   "cell_type": "code",
   "execution_count": 25,
   "metadata": {},
   "outputs": [],
   "source": [
    "sol.t_events"
   ]
  },
  {
   "cell_type": "code",
   "execution_count": 39,
   "metadata": {},
   "outputs": [],
   "source": [
    "def integral(x0, u, t_span, delta_t=None, algo='RK45'):\n",
    "        start, stop = t_span\n",
    "        if delta_t != None and delta_t < 0.1*(stop-start):\n",
    "            t_eval = np.arange(t_span[0], t_span[1], delta_t)\n",
    "        else: t_eval = None\n",
    "        \n",
    "        dx_dt = lambda t,x,u: A.dot(x) + B.dot(u)\n",
    "        result = integrate.solve_ivp(fun=dx_dt, args=u, y0=x0, t_span=t_span, t_eval=t_eval, method=algo, dense_output=True)\n",
    "        \n",
    "        return result.y.T, result.t"
   ]
  },
  {
   "cell_type": "code",
   "execution_count": 49,
   "metadata": {},
   "outputs": [
    {
     "output_type": "execute_result",
     "data": {
      "text/plain": [
       "(array([[1.00000000e-01, 2.00000000e-01, 3.00000000e-01],\n",
       "        [1.00100050e-01, 2.00200100e-01, 3.00300150e-01],\n",
       "        [1.00200200e-01, 2.00400400e-01, 3.00600600e-01],\n",
       "        ...,\n",
       "        [2.19501542e+03, 4.39003085e+03, 6.58504627e+03],\n",
       "        [2.19721155e+03, 4.39442310e+03, 6.59163466e+03],\n",
       "        [2.19940987e+03, 4.39881974e+03, 6.59822962e+03]]),\n",
       " array([0.000e+00, 1.000e-03, 2.000e-03, ..., 9.997e+00, 9.998e+00,\n",
       "        9.999e+00]))"
      ]
     },
     "metadata": {},
     "execution_count": 49
    }
   ],
   "source": [
    "integral(x0, ((np.array([0,0])),), t_span, dt)"
   ]
  },
  {
   "cell_type": "code",
   "execution_count": 8,
   "metadata": {},
   "outputs": [],
   "source": [
    "a = np.array"
   ]
  },
  {
   "cell_type": "code",
   "execution_count": null,
   "metadata": {},
   "outputs": [],
   "source": []
  }
 ]
}